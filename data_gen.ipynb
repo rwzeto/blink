{
 "cells": [
  {
   "cell_type": "code",
   "execution_count": null,
   "metadata": {},
   "outputs": [],
   "source": [
    "import numpy as np\n",
    "import matplotlib.pyplot as plt\n",
    "from pathlib import Path\n",
    "import os \n",
    "\n",
    "root = Path(\".\")"
   ]
  },
  {
   "cell_type": "code",
   "execution_count": null,
   "metadata": {},
   "outputs": [],
   "source": [
    "def rsquare(elem):\n",
    "    square = np.zeros(elem)\n",
    "    start = np.random.randint(elem)\n",
    "    width = np.random.randint(int(elem/6))\n",
    "    if start+width > elem:\n",
    "        width -= start+width-elem\n",
    "    for elem in range(start, start+width):\n",
    "        if np.random.rand() > .1:\n",
    "            square[elem] = 1\n",
    "    square = np.random.rand()*square\n",
    "    return square\n",
    "\n",
    "def remove_overlap(elem, squares_list, scale):\n",
    "    if len(squares_list) == 0:\n",
    "        return np.zeros(elem)\n",
    "    summed_squares = np.sum(squares_list, axis=0)\n",
    "    nonzero = np.where(summed_squares!=0)\n",
    "    summed_squares[nonzero] = 1*scale\n",
    "    return summed_squares\n",
    "    \n",
    "def rnoise(elem):\n",
    "    noise = np.random.normal(loc = 0, scale=.1, size=elem)\n",
    "    return noise\n",
    "\n",
    "def renvelope(elem):\n",
    "    linear = np.array([i for i in range(elem)])[::-1]\n",
    "    return np.random.rand()*linear*1e-4\n",
    "\n",
    "def compose(elem):\n",
    "    square = remove_overlap(elem, [rsquare(elem) for _ in range(np.random.randint(1,10))], 1)\n",
    "    p = True\n",
    "    if np.random.rand() > .5:\n",
    "        square = square*0\n",
    "        p = False\n",
    "    noise = rnoise(elem)*np.random.uniform(.5, 4)\n",
    "    signal = noise+square\n",
    "    signal = signal/np.max(signal)\n",
    "    return p, signal\n",
    "\n",
    "label, signal = compose(512)\n",
    "c='green' if label else 'red'\n",
    "plt.plot(signal, color=c)"
   ]
  },
  {
   "cell_type": "code",
   "execution_count": null,
   "metadata": {},
   "outputs": [],
   "source": [
    "savedir = root / \"output\" / \"training_data\"\n",
    "for i in range(100000):\n",
    "    label, signal = compose(512)\n",
    "    labeldir = \"positives\" if label else \"negatives\"\n",
    "    np.savetxt(str(root / \"output\" / \"training_data\" / labeldir / '%07d.txt')%i, signal, fmt='%f')\n",
    "    if i%1000==0:\n",
    "        print(\"%06d\"%i, end='\\r')"
   ]
  },
  {
   "cell_type": "code",
   "execution_count": null,
   "metadata": {},
   "outputs": [],
   "source": [
    "savedir = root / \"output\" / \"validation_data\"\n",
    "for i in range(10000):\n",
    "    label, signal = compose(512)\n",
    "    labeldir = \"positives\" if label else \"negatives\"\n",
    "    np.savetxt(str(root / \"output\" / \"validation_data\" / labeldir / '%07d.txt')%i, signal, fmt='%f')\n",
    "    if i%1000==0:\n",
    "        print(\"%06d\"%i, end='\\r')"
   ]
  }
 ],
 "metadata": {
  "kernelspec": {
   "display_name": "Python 3",
   "language": "python",
   "name": "python3"
  },
  "language_info": {
   "codemirror_mode": {
    "name": "ipython",
    "version": 3
   },
   "file_extension": ".py",
   "mimetype": "text/x-python",
   "name": "python",
   "nbconvert_exporter": "python",
   "pygments_lexer": "ipython3",
   "version": "3.8.5"
  }
 },
 "nbformat": 4,
 "nbformat_minor": 4
}
