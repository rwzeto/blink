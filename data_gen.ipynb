{
 "cells": [
  {
   "cell_type": "code",
   "execution_count": 1,
   "metadata": {},
   "outputs": [],
   "source": [
    "import numpy as np\n",
    "import matplotlib.pyplot as plt\n",
    "from pathlib import Path\n",
    "import os \n",
    "\n",
    "root = Path(\".\")"
   ]
  },
  {
   "cell_type": "code",
   "execution_count": null,
   "metadata": {},
   "outputs": [],
   "source": [
    "# width of each peak\n",
    "# height of each peak\n",
    "# position of each peak\n",
    "# noise function parameters\n",
    "# number of peaks\n",
    "\n",
    "# 512 points"
   ]
  },
  {
   "cell_type": "code",
   "execution_count": 56,
   "metadata": {},
   "outputs": [
    {
     "data": {
      "text/plain": [
       "[<matplotlib.lines.Line2D at 0x1159da23f40>]"
      ]
     },
     "execution_count": 56,
     "metadata": {},
     "output_type": "execute_result"
    },
    {
     "data": {
      "image/png": "[encoded data removed]",
      "text/plain": [
       "<Figure size 432x288 with 1 Axes>"
      ]
     },
     "metadata": {
      "needs_background": "light"
     },
     "output_type": "display_data"
    }
   ],
   "source": [
    "def rsquare(elem):\n",
    "    square = np.zeros(elem)\n",
    "    low = np.random.randint(elem)\n",
    "    high = np.random.randint(low, elem)\n",
    "    if high > elem:\n",
    "        high = elem\n",
    "    for elem in range(low, high):\n",
    "        square[elem] = 1\n",
    "    square = np.random.rand()*square\n",
    "    return square\n",
    "\n",
    "def remove_overlap(elem, squares_list):\n",
    "    if len(squares_list) == 0:\n",
    "        return np.zeros(elem)\n",
    "    summed_squares = np.sum(squares_list, axis=0)\n",
    "    nonzero = np.where(summed_squares!=0)\n",
    "    summed_squares[nonzero] = 1\n",
    "    return summed_squares\n",
    "    \n",
    "def rnoise(elem):\n",
    "    noise = np.random.random(elem)*np.random.rand()\n",
    "    noise = noise + np.random.rand()\n",
    "    return noise\n",
    "\n",
    "def renvelope(elem):\n",
    "    linear = np.array([i for i in range(elem)])[::-1]\n",
    "    return np.random.rand()*linear*1e-4\n",
    "\n",
    "def compose(elem):\n",
    "    square = remove_overlap(elem, [rsquare(elem) for _ in range(np.random.randint(0,5))])\n",
    "    if np.random.rand() >= .62:\n",
    "        square = square*0\n",
    "    noise = rnoise(elem)\n",
    "    envelope = renvelope(elem)\n",
    "    p = False\n",
    "    if np.max(square+noise) > np.std(noise)*3+np.mean(noise):\n",
    "        p = True\n",
    "    signal = noise+square+envelope\n",
    "    signal = signal/np.max(signal)\n",
    "    return p, signal\n",
    "\n",
    "label, signal = compose(512)\n",
    "c='green' if label else 'red'\n",
    "plt.plot(signal, color=c)"
   ]
  },
  {
   "cell_type": "code",
   "execution_count": 100,
   "metadata": {},
   "outputs": [
    {
     "name": "stdout",
     "output_type": "stream",
     "text": [
      "099000\r"
     ]
    }
   ],
   "source": [
    "savedir = root / \"output\" / \"training_data\"\n",
    "for i in range(100000):\n",
    "    label, signal = compose(512)\n",
    "#     label, _ = compose(512)\n",
    "    labeldir = \"positives\" if label else \"negatives\"\n",
    "#     if label:\n",
    "#         pos += 1\n",
    "#     else:\n",
    "#         neg += 1\n",
    "    np.savetxt(str(root / \"output\" / \"training_data\" / labeldir / '%07d.txt')%i, signal, fmt='%f')\n",
    "    if i%1000==0:\n",
    "        print(\"%06d\"%i, end='\\r')\n",
    "        \n"
   ]
  },
  {
   "cell_type": "code",
   "execution_count": 3,
   "metadata": {},
   "outputs": [
    {
     "name": "stdout",
     "output_type": "stream",
     "text": [
      "009000\r"
     ]
    }
   ],
   "source": [
    "savedir = root / \"output\" / \"validation_data\"\n",
    "for i in range(10000):\n",
    "    label, signal = compose(512)\n",
    "    labeldir = \"positives\" if label else \"negatives\"\n",
    "    np.savetxt(str(root / \"output\" / \"validation_data\" / labeldir / '%07d.txt')%i, signal, fmt='%f')\n",
    "    if i%1000==0:\n",
    "        print(\"%06d\"%i, end='\\r')"
   ]
  },
  {
   "cell_type": "code",
   "execution_count": null,
   "metadata": {},
   "outputs": [],
   "source": [
    "np.random.randint(5)"
   ]
  }
 ],
 "metadata": {
  "kernelspec": {
   "display_name": "Python 3",
   "language": "python",
   "name": "python3"
  },
  "language_info": {
   "codemirror_mode": {
    "name": "ipython",
    "version": 3
   },
   "file_extension": ".py",
   "mimetype": "text/x-python",
   "name": "python",
   "nbconvert_exporter": "python",
   "pygments_lexer": "ipython3",
   "version": "3.8.5"
  }
 },
 "nbformat": 4,
 "nbformat_minor": 4
}
