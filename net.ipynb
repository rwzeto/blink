{
 "cells": [
  {
   "cell_type": "code",
   "execution_count": 1,
   "metadata": {},
   "outputs": [],
   "source": [
    "from PIL import Image\n",
    "from PIL import ImageOps\n",
    "import numpy as np\n",
    "from pathlib import Path\n",
    "import os\n",
    "import matplotlib.pyplot as plt\n",
    "import torch\n",
    "import torch.nn as nn\n",
    "import torchvision.transforms as transforms\n",
    "import torch.optim as optim\n",
    "import random\n",
    "from IPython import display\n",
    "\n",
    "plt.style.use('dark_background')\n",
    "\n",
    "root = Path(\".\")"
   ]
  },
  {
   "cell_type": "code",
   "execution_count": 2,
   "metadata": {},
   "outputs": [],
   "source": [
    "class ConvNet(nn.Module):\n",
    "    def __init__(self):\n",
    "        super(ConvNet, self).__init__()\n",
    "        self.layer1 = nn.Sequential(\n",
    "            nn.Conv1d(1, 8, kernel_size=5, stride=1, padding=2),\n",
    "            nn.ReLU(),\n",
    "            nn.MaxPool1d(kernel_size=2, stride=2))\n",
    "        self.layer2 = nn.Sequential(\n",
    "            nn.Conv1d(8, 16, kernel_size=5, stride=1, padding=2),\n",
    "            nn.ReLU(),\n",
    "            nn.MaxPool1d(kernel_size=2, stride=2))\n",
    "        self.layer3 = nn.Sequential(\n",
    "            nn.Conv1d(16, 32, kernel_size=5, stride=1, padding=2),\n",
    "            nn.ReLU(),\n",
    "            nn.MaxPool1d(kernel_size=2, stride=2))\n",
    "        self.output = nn.Sequential(\n",
    "            nn.Linear(2048, 2))\n",
    "\n",
    "    def forward(self, x):\n",
    "        out = self.layer1(x)\n",
    "        out = self.layer2(out)\n",
    "        out = self.layer3(out)\n",
    "        out = out.reshape(out.size(0), -1)\n",
    "        out = self.output(out)\n",
    "        return out"
   ]
  },
  {
   "cell_type": "code",
   "execution_count": 3,
   "metadata": {},
   "outputs": [],
   "source": [
    "class predictdataset:\n",
    "    def __init__(self, directory):\n",
    "        self.directory = directory\n",
    "        self.index = str(directory)[-3:]\n",
    "        self.filepaths = [directory / file for file in os.listdir(directory) if \".tif\" in file][:512]\n",
    "        self.imagetensors = {file: transforms.ToTensor()(ImageOps.autocontrast(Image.open(file).convert('L').resize((256, 256)))).cuda().squeeze() \\\n",
    "                             for file in self.filepaths}\n",
    "        self.device = torch.device(\"cuda:0\" if torch.cuda.is_available() else \"cpu\")\n",
    "    def tensor(self, coordinates):\n",
    "        data = torch.zeros((1, 1, 512), device=self.device)\n",
    "        for t, file in enumerate(self.filepaths):\n",
    "            data[0, 0, t] = self.imagetensors[file][coordinates]\n",
    "        data[0,0,:] = data[0,0,:]/torch.max(data).item()\n",
    "        data.requires_grad_(True)\n",
    "        return data\n",
    "\n",
    "class realdataset:\n",
    "    def __init__(self, directory):\n",
    "        self.directory = directory\n",
    "        self.index = str(directory)[-3:]\n",
    "        self.filepaths = [directory / file for file in os.listdir(directory) if \".tif\" in file][:512]\n",
    "        self.imagetensors = {file: transforms.ToTensor()(ImageOps.autocontrast(Image.open(file).convert('L').resize((256,256)))).cuda().squeeze() \\\n",
    "                             for file in self.filepaths}\n",
    "        self.ground_truth = np.loadtxt(directory / \"..\" / \"..\" / \"output\" / self.index / \"indices.txt\", dtype=float)\n",
    "        self.device = torch.device(\"cuda:0\" if torch.cuda.is_available() else \"cpu\")\n",
    "    def positives(self):\n",
    "        return list(zip(np.where(self.ground_truth!=0)[0], np.where(self.ground_truth!=0)[1]))\n",
    "    def controls(self):\n",
    "        total = np.shape(self.ground_truth)[0]*np.shape(self.ground_truth)[1]\n",
    "        negative_count = np.shape(self.ground_truth[np.where(self.ground_truth==0)])[0]\n",
    "        positive_count = total-negative_count\n",
    "        negatives = list(zip(np.where(self.ground_truth==0)[0], np.where(self.ground_truth==0)[1]))\n",
    "        picked_negatives = random.sample(negatives, positive_count)\n",
    "        return picked_negatives\n",
    "    def tensor(self, p, coordinates):\n",
    "        labels = torch.zeros(1, dtype=torch.int64, device=self.device)\n",
    "        labels[0] = 1 if p==1 else 0\n",
    "        data = torch.zeros((1, 1, 512), device=self.device)\n",
    "        for t, file in enumerate(self.filepaths):\n",
    "            data[0, 0, t] = self.imagetensors[file][coordinates]\n",
    "        data[0,0,:] = data[0,0,:]/torch.max(data).item()\n",
    "        data.requires_grad_(True)\n",
    "        return labels, data\n",
    "    \n",
    "class synthdataset:\n",
    "    def __init__(self, directory):\n",
    "        self.directory = directory\n",
    "        self.device = torch.device(\"cuda:0\" if torch.cuda.is_available() else \"cpu\")\n",
    "        self.positives = [directory / \"positives\" / file for file in os.listdir(directory / \"positives\")]\n",
    "        self.negatives = [directory / \"negatives\" / file for file in os.listdir(directory / \"negatives\")]\n",
    "        self.all = list(zip([1 for _ in self.positives]+[0 for _ in self.negatives], self.positives+self.negatives))\n",
    "        self.time = 512\n",
    "        self.allshuffle = random.sample(self.all, len(self.all))\n",
    "    def load(self, file):\n",
    "        return np.loadtxt(file, dtype=float)\n",
    "    def tensor(self, p, file):\n",
    "        label = torch.zeros(1, dtype=torch.int64, device=self.device)\n",
    "        label[0] = 1 if p==1 else 0\n",
    "        data = torch.zeros(self.time, device=self.device)\n",
    "        npdata = self.load(file)\n",
    "        for t in range(self.time):\n",
    "            data[t] = npdata[t]\n",
    "        data.requires_grad_(True)\n",
    "        return label, data\n",
    "    def create_batch(self, batch_size):\n",
    "        assert len(self.allshuffle)%batch_size==0\n",
    "        n_used = 0\n",
    "        def gen_batch():\n",
    "            nonlocal n_used\n",
    "            if n_used == len(self.allshuffle):\n",
    "                return None\n",
    "            else:\n",
    "                labels = torch.stack([self.tensor(p, coordinate)[0] for p,coordinate in self.allshuffle[n_used:n_used+batch_size]])\n",
    "                inputs = torch.stack([self.tensor(p, coordinate)[1] for p,coordinate in self.allshuffle[n_used:n_used+batch_size]])\n",
    "                inputs = inputs[:, None, :]\n",
    "                n_used += batch_size\n",
    "                return labels, inputs\n",
    "        return gen_batch\n",
    "    \n",
    "def batch_accuracy(outputs, labels):\n",
    "    probabilities = torch.nn.Softmax(1)(outputs)\n",
    "    scores = []\n",
    "    for i, index in enumerate(labels):\n",
    "        scores += [probabilities[i, index.item()].item()]\n",
    "    return np.mean(scores)\n",
    "\n",
    "def accuracy(outputs, labels):\n",
    "    probabilities = torch.nn.Softmax(1)(outputs)\n",
    "    return probabilities[0, labels.item()].item()"
   ]
  },
  {
   "cell_type": "code",
   "execution_count": null,
   "metadata": {},
   "outputs": [],
   "source": [
    "data = sdataset(root / \"output\" / \"training_data\")"
   ]
  },
  {
   "cell_type": "code",
   "execution_count": null,
   "metadata": {},
   "outputs": [],
   "source": [
    "net = ConvNet()\n",
    "net.cuda()\n",
    "criterion = nn.CrossEntropyLoss(reduction='mean')\n",
    "optimizer = optim.Adam(net.parameters(), lr=.01)"
   ]
  },
  {
   "cell_type": "code",
   "execution_count": null,
   "metadata": {},
   "outputs": [],
   "source": [
    "fig, ax = plt.subplots(1,1)\n",
    "ax2 = ax.twinx()\n",
    "loss_ax = []\n",
    "accuracy_ax = []\n",
    "for epoch in range(10):\n",
    "    batch_generator = data.create_batch(100)\n",
    "    batch = batch_generator()\n",
    "    i=0\n",
    "    while batch is not None:\n",
    "        optimizer.zero_grad()\n",
    "        \n",
    "        labels, inputs = batch[0].squeeze(), batch[1]\n",
    "        labels, inputs = labels.cuda(), inputs.cuda()\n",
    "        \n",
    "        outputs = net(inputs)\n",
    "        loss = criterion(outputs, labels)\n",
    "        loss.backward()\n",
    "        optimizer.step()\n",
    "\n",
    "        loss_ax += [loss.item()]\n",
    "        accuracy_ax += [batch_accuracy(outputs, labels)]\n",
    "        \n",
    "        ax.cla()\n",
    "        ax2.cla()\n",
    "        ax.plot(loss_ax)\n",
    "        ax.set_title(\"epoch %d, iter %d\"%(epoch, i))\n",
    "        ax.set_xlabel(\"Iteration number\")\n",
    "        ax.set_ylabel(\"CrossEntropyLoss\")\n",
    "        ax2.plot(accuracy_ax, color='red')\n",
    "        ax2.set_ylabel(\"Probability of correct answer\", color='red')\n",
    "        display.clear_output(wait=True)\n",
    "        display.display(plt.gcf())\n",
    "        \n",
    "        batch = batch_generator()\n",
    "        i += 1"
   ]
  },
  {
   "cell_type": "code",
   "execution_count": null,
   "metadata": {},
   "outputs": [],
   "source": [
    "torch.save(net.state_dict(), \"new\")"
   ]
  },
  {
   "cell_type": "code",
   "execution_count": null,
   "metadata": {},
   "outputs": [],
   "source": [
    "data = sdataset(root / \"output\" / \"validation_data\")"
   ]
  },
  {
   "cell_type": "code",
   "execution_count": null,
   "metadata": {},
   "outputs": [],
   "source": [
    "device = torch.device(\"cuda\")\n",
    "net = ConvNet()\n",
    "net.load_state_dict(torch.load(root / \"saved_models\" / \"2020_09_07_3epochs\" / \"model\"))\n",
    "net.to(device)"
   ]
  },
  {
   "cell_type": "code",
   "execution_count": null,
   "metadata": {},
   "outputs": [],
   "source": [
    "fig, ax = plt.subplots(1,1)\n",
    "accuracy_ax = []\n",
    "batch_generator = data.create_batch(1)\n",
    "batch = batch_generator()\n",
    "i=0\n",
    "while batch is not None:\n",
    "    labels, inputs = batch[0].squeeze(), batch[1]\n",
    "    labels, inputs = labels.cuda(), inputs.cuda()\n",
    "    outputs = net(inputs)\n",
    "\n",
    "    accuracy_ax += [accuracy(outputs, labels)]\n",
    "    ax.cla()\n",
    "    ax.plot(accuracy_ax, color='red')\n",
    "    ax.set_xlabel(\"Iteration number\")\n",
    "    ax.set_ylabel(\"Probability of correct answer\")\n",
    "    display.clear_output(wait=True)\n",
    "    display.display(plt.gcf())\n",
    "    batch = batch_generator()\n",
    "    i += 1"
   ]
  },
  {
   "cell_type": "code",
   "execution_count": 4,
   "metadata": {},
   "outputs": [],
   "source": [
    "data = predictdataset(root / \"data\" / \"002\")"
   ]
  },
  {
   "cell_type": "code",
   "execution_count": 5,
   "metadata": {},
   "outputs": [
    {
     "data": {
      "text/plain": [
       "ConvNet(\n",
       "  (layer1): Sequential(\n",
       "    (0): Conv1d(1, 8, kernel_size=(5,), stride=(1,), padding=(2,))\n",
       "    (1): ReLU()\n",
       "    (2): MaxPool1d(kernel_size=2, stride=2, padding=0, dilation=1, ceil_mode=False)\n",
       "  )\n",
       "  (layer2): Sequential(\n",
       "    (0): Conv1d(8, 16, kernel_size=(5,), stride=(1,), padding=(2,))\n",
       "    (1): ReLU()\n",
       "    (2): MaxPool1d(kernel_size=2, stride=2, padding=0, dilation=1, ceil_mode=False)\n",
       "  )\n",
       "  (layer3): Sequential(\n",
       "    (0): Conv1d(16, 32, kernel_size=(5,), stride=(1,), padding=(2,))\n",
       "    (1): ReLU()\n",
       "    (2): MaxPool1d(kernel_size=2, stride=2, padding=0, dilation=1, ceil_mode=False)\n",
       "  )\n",
       "  (output): Sequential(\n",
       "    (0): Linear(in_features=2048, out_features=2, bias=True)\n",
       "  )\n",
       ")"
      ]
     },
     "execution_count": 5,
     "metadata": {},
     "output_type": "execute_result"
    }
   ],
   "source": [
    "device = torch.device(\"cuda\")\n",
    "net = ConvNet()\n",
    "net.load_state_dict(torch.load(root / \"saved_models\" / \"2020_09_07_3epochs\" / \"model\"))\n",
    "net.to(device)"
   ]
  },
  {
   "cell_type": "code",
   "execution_count": 8,
   "metadata": {},
   "outputs": [
    {
     "name": "stdout",
     "output_type": "stream",
     "text": [
      "005, 255\r"
     ]
    }
   ],
   "source": [
    "accuracy_ax = []\n",
    "n=256\n",
    "\n",
    "mask = np.zeros((n, n))\n",
    "for row in range(n):\n",
    "    for col in range(n):\n",
    "        inputs = data.tensor((row, col))\n",
    "        inputs = inputs.cuda()\n",
    "        outputs = net(inputs)\n",
    "\n",
    "        probabilities = torch.nn.Softmax(1)(outputs)\n",
    "        result = torch.topk(probabilities, 1).indices\n",
    "        if result == 1:\n",
    "            mask[row, col] = 1\n",
    "        print(\"%03d, %03d\"%(row, col), end='\\r')\n",
    "    if row==5:\n",
    "        break"
   ]
  },
  {
   "cell_type": "code",
   "execution_count": 9,
   "metadata": {},
   "outputs": [
    {
     "data": {
      "text/plain": [
       "<matplotlib.image.AxesImage at 0x137988be400>"
      ]
     },
     "execution_count": 9,
     "metadata": {},
     "output_type": "execute_result"
    },
    {
     "data": {
      "image/png": "[encoded data removed]",
      "text/plain": [
       "<Figure size 432x288 with 1 Axes>"
      ]
     },
     "metadata": {},
     "output_type": "display_data"
    }
   ],
   "source": [
    "plt.imshow(mask)"
   ]
  }
 ],
 "metadata": {
  "kernelspec": {
   "display_name": "Python 3",
   "language": "python",
   "name": "python3"
  },
  "language_info": {
   "codemirror_mode": {
    "name": "ipython",
    "version": 3
   },
   "file_extension": ".py",
   "mimetype": "text/x-python",
   "name": "python",
   "nbconvert_exporter": "python",
   "pygments_lexer": "ipython3",
   "version": "3.8.5"
  }
 },
 "nbformat": 4,
 "nbformat_minor": 4
}
